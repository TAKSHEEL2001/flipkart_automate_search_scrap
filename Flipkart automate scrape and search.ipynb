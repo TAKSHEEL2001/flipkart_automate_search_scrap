{
 "cells": [
  {
   "cell_type": "markdown",
   "id": "2c4b3c72",
   "metadata": {},
   "source": [
    "# Import libraries"
   ]
  },
  {
   "cell_type": "code",
   "execution_count": 1,
   "id": "604bcfd7",
   "metadata": {},
   "outputs": [],
   "source": [
    "import time                                 # the current time, pausing the Program for web driver to load the websi\n",
    "import numpy as np                          # to calculate numerical values ,if needed\n",
    "import pandas as pd                         # to create a tabular formate data\n",
    "from bs4 import BeautifulSoup               # scrape data from HTML\n",
    "from selenium import webdriver              # To automate web browser\n",
    "from selenium.webdriver.common.by import By # To select attribute type "
   ]
  },
  {
   "cell_type": "markdown",
   "id": "7e3bc3ea",
   "metadata": {},
   "source": [
    "# create functions for small stages"
   ]
  },
  {
   "cell_type": "code",
   "execution_count": 31,
   "id": "8c7fb52b",
   "metadata": {},
   "outputs": [],
   "source": [
    "def get_price_and_name(x):\n",
    "    ls=[x.find_element(By.CLASS_NAME,\"_4rR01T\").text,x.find_element(By.CLASS_NAME,\"_1_WHN1\").text]\n",
    "    return ls\n",
    "    \n",
    "def get_crawl(driver,data):\n",
    "    while True:\n",
    "        products = driver.find_elements(By.CLASS_NAME,\"_2kHMtA\")\n",
    "        p_series = pd.Series(products)\n",
    "        p_series = p_series.apply(get_price_and_name)\n",
    "        data += list(p_series)\n",
    "        next_button = driver.find_elements(By.CLASS_NAME,\"_1LKTO3\")\n",
    "        if next_button[-1].text==\"NEXT\":\n",
    "            next_button[-1].click()\n",
    "            time.sleep(4)\n",
    "            return get_crawl(driver,data)\n",
    "        else:\n",
    "            return data"
   ]
  },
  {
   "cell_type": "code",
   "execution_count": 30,
   "id": "ec970908",
   "metadata": {},
   "outputs": [
    {
     "data": {
      "text/plain": [
       "'NEXT'"
      ]
     },
     "execution_count": 30,
     "metadata": {},
     "output_type": "execute_result"
    }
   ],
   "source": [
    "driver.find_elements(By.CLASS_NAME,\"_1LKTO3\")[-1].text"
   ]
  },
  {
   "cell_type": "markdown",
   "id": "6d54779e",
   "metadata": {},
   "source": [
    "**URL**"
   ]
  },
  {
   "cell_type": "code",
   "execution_count": 11,
   "id": "13db377c",
   "metadata": {},
   "outputs": [],
   "source": [
    "url = \"https://www.flipkart.com/\""
   ]
  },
  {
   "cell_type": "markdown",
   "id": "0eea8188",
   "metadata": {},
   "source": [
    "**list of product**"
   ]
  },
  {
   "cell_type": "code",
   "execution_count": 12,
   "id": "d87061f1",
   "metadata": {},
   "outputs": [],
   "source": [
    "product_list = [\"iphone mobile\",\"lava mobile\",\"nokia mobile\",\"vivo mobile\"]"
   ]
  },
  {
   "cell_type": "markdown",
   "id": "ea650c7e",
   "metadata": {},
   "source": [
    "**Start WebDriver**"
   ]
  },
  {
   "cell_type": "code",
   "execution_count": 23,
   "id": "ac1f431f",
   "metadata": {},
   "outputs": [],
   "source": [
    "driver = webdriver.Chrome()"
   ]
  },
  {
   "cell_type": "markdown",
   "id": "7b5c9aae",
   "metadata": {},
   "source": [
    "**Go to specific url in webdriver**"
   ]
  },
  {
   "cell_type": "code",
   "execution_count": 32,
   "id": "c70bfb49",
   "metadata": {},
   "outputs": [],
   "source": [
    "for i in product_list:\n",
    "    driver.get(url)\n",
    "    search =driver.find_element(By.NAME,\"q\")\n",
    "    search.send_keys(i)\n",
    "    try:\n",
    "        button= driver.find_element(By.CLASS_NAME,\"L0Z3Pu\")\n",
    "        \n",
    "    except:\n",
    "        button = driver.find_element(By.CLASS_NAME,\"_2iLD__\")\n",
    "    button.click()\n",
    "    data =[[\"name\",\"price\"]]\n",
    "    time.sleep(4)\n",
    "    price_name = get_crawl(driver,data)\n",
    "    globals()[\"df_\"+i.split(\" \")[0]]=pd.DataFrame(price_name[1:],columns=price_name[0])"
   ]
  },
  {
   "cell_type": "code",
   "execution_count": 21,
   "id": "3d053d2b",
   "metadata": {},
   "outputs": [
    {
     "data": {
      "text/plain": [
       "<selenium.webdriver.remote.webelement.WebElement (session=\"1aaf28fc80290a299b8a82c1ac44e486\", element=\"D214163765E3C739C7E96031BB7CB79C_element_286\")>"
      ]
     },
     "execution_count": 21,
     "metadata": {},
     "output_type": "execute_result"
    }
   ],
   "source": [
    "driver.find_element(By.CLASS_NAME,\"_2iLD__\")"
   ]
  },
  {
   "cell_type": "code",
   "execution_count": 36,
   "id": "9357c4c1",
   "metadata": {},
   "outputs": [
    {
     "data": {
      "text/html": [
       "<div>\n",
       "<style scoped>\n",
       "    .dataframe tbody tr th:only-of-type {\n",
       "        vertical-align: middle;\n",
       "    }\n",
       "\n",
       "    .dataframe tbody tr th {\n",
       "        vertical-align: top;\n",
       "    }\n",
       "\n",
       "    .dataframe thead th {\n",
       "        text-align: right;\n",
       "    }\n",
       "</style>\n",
       "<table border=\"1\" class=\"dataframe\">\n",
       "  <thead>\n",
       "    <tr style=\"text-align: right;\">\n",
       "      <th></th>\n",
       "      <th>name</th>\n",
       "      <th>price</th>\n",
       "    </tr>\n",
       "  </thead>\n",
       "  <tbody>\n",
       "    <tr>\n",
       "      <th>0</th>\n",
       "      <td>vivo T2x 5G (Marine Blue, 128 GB)</td>\n",
       "      <td>₹13,999</td>\n",
       "    </tr>\n",
       "    <tr>\n",
       "      <th>1</th>\n",
       "      <td>vivo T2x 5G (Glimmer Black, 128 GB)</td>\n",
       "      <td>₹13,999</td>\n",
       "    </tr>\n",
       "    <tr>\n",
       "      <th>2</th>\n",
       "      <td>vivo T2x 5G (Aurora Gold, 128 GB)</td>\n",
       "      <td>₹12,999</td>\n",
       "    </tr>\n",
       "    <tr>\n",
       "      <th>3</th>\n",
       "      <td>vivo T2x 5G (Glimmer Black, 128 GB)</td>\n",
       "      <td>₹12,999</td>\n",
       "    </tr>\n",
       "    <tr>\n",
       "      <th>4</th>\n",
       "      <td>vivo T2x 5G (Marine Blue, 128 GB)</td>\n",
       "      <td>₹12,999</td>\n",
       "    </tr>\n",
       "    <tr>\n",
       "      <th>...</th>\n",
       "      <td>...</td>\n",
       "      <td>...</td>\n",
       "    </tr>\n",
       "    <tr>\n",
       "      <th>308</th>\n",
       "      <td>vivo X60 Pro (Shimmer Blue, 256 GB)</td>\n",
       "      <td>₹48,990</td>\n",
       "    </tr>\n",
       "    <tr>\n",
       "      <th>309</th>\n",
       "      <td>vivo X60 Pro (Midnight Black, 256 GB)</td>\n",
       "      <td>₹49,990</td>\n",
       "    </tr>\n",
       "    <tr>\n",
       "      <th>310</th>\n",
       "      <td>vivo Y51A (Crystal Symphony, 128 GB)</td>\n",
       "      <td>₹16,990</td>\n",
       "    </tr>\n",
       "    <tr>\n",
       "      <th>311</th>\n",
       "      <td>vivo S1 Pro (Mystic Black, 128 GB)</td>\n",
       "      <td>₹18,950</td>\n",
       "    </tr>\n",
       "    <tr>\n",
       "      <th>312</th>\n",
       "      <td>vivo V20 2021 (Sunset Melody, 128 GB)</td>\n",
       "      <td>₹24,990</td>\n",
       "    </tr>\n",
       "  </tbody>\n",
       "</table>\n",
       "<p>313 rows × 2 columns</p>\n",
       "</div>"
      ],
      "text/plain": [
       "                                      name    price\n",
       "0        vivo T2x 5G (Marine Blue, 128 GB)  ₹13,999\n",
       "1      vivo T2x 5G (Glimmer Black, 128 GB)  ₹13,999\n",
       "2        vivo T2x 5G (Aurora Gold, 128 GB)  ₹12,999\n",
       "3      vivo T2x 5G (Glimmer Black, 128 GB)  ₹12,999\n",
       "4        vivo T2x 5G (Marine Blue, 128 GB)  ₹12,999\n",
       "..                                     ...      ...\n",
       "308    vivo X60 Pro (Shimmer Blue, 256 GB)  ₹48,990\n",
       "309  vivo X60 Pro (Midnight Black, 256 GB)  ₹49,990\n",
       "310   vivo Y51A (Crystal Symphony, 128 GB)  ₹16,990\n",
       "311     vivo S1 Pro (Mystic Black, 128 GB)  ₹18,950\n",
       "312  vivo V20 2021 (Sunset Melody, 128 GB)  ₹24,990\n",
       "\n",
       "[313 rows x 2 columns]"
      ]
     },
     "execution_count": 36,
     "metadata": {},
     "output_type": "execute_result"
    }
   ],
   "source": [
    "df_vivo"
   ]
  },
  {
   "cell_type": "code",
   "execution_count": null,
   "id": "1d4a9a98",
   "metadata": {},
   "outputs": [],
   "source": []
  }
 ],
 "metadata": {
  "kernelspec": {
   "display_name": "Python 3 (ipykernel)",
   "language": "python",
   "name": "python3"
  },
  "language_info": {
   "codemirror_mode": {
    "name": "ipython",
    "version": 3
   },
   "file_extension": ".py",
   "mimetype": "text/x-python",
   "name": "python",
   "nbconvert_exporter": "python",
   "pygments_lexer": "ipython3",
   "version": "3.9.13"
  }
 },
 "nbformat": 4,
 "nbformat_minor": 5
}
